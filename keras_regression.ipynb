{
    "cells": [
        {
            "metadata": {
                "collapsed": true
            },
            "cell_type": "markdown",
            "source": "# Preprocessing Data"
        },
        {
            "metadata": {},
            "cell_type": "code",
            "source": "import pandas as pd\nimport numpy as np\nimport keras\nfrom keras.models import Sequential\nfrom keras.layers import Dense\nfrom sklearn.model_selection import train_test_split\nfrom sklearn.metrics import mean_squared_error\nimport statistics \nfrom keras.layers.convolutional import Conv2D # to add convolutional layers\nfrom keras.layers.convolutional import MaxPooling2D # to add pooling layers\nfrom keras.layers import Flatten # to flatten data for fully connected layers\nfrom keras.utils import to_categorical",
            "execution_count": 39,
            "outputs": []
        },
        {
            "metadata": {},
            "cell_type": "code",
            "source": "concrete_data = pd.read_csv('https://s3-api.us-geo.objectstorage.softlayer.net/cf-courses-data/CognitiveClass/DL0101EN/labs/data/concrete_data.csv')\nconcrete_data.head()",
            "execution_count": 40,
            "outputs": [
                {
                    "output_type": "execute_result",
                    "execution_count": 40,
                    "data": {
                        "text/plain": "   Cement  Blast Furnace Slag  Fly Ash  Water  Superplasticizer  \\\n0   540.0                 0.0      0.0  162.0               2.5   \n1   540.0                 0.0      0.0  162.0               2.5   \n2   332.5               142.5      0.0  228.0               0.0   \n3   332.5               142.5      0.0  228.0               0.0   \n4   198.6               132.4      0.0  192.0               0.0   \n\n   Coarse Aggregate  Fine Aggregate  Age  Strength  \n0            1040.0           676.0   28     79.99  \n1            1055.0           676.0   28     61.89  \n2             932.0           594.0  270     40.27  \n3             932.0           594.0  365     41.05  \n4             978.4           825.5  360     44.30  ",
                        "text/html": "<div>\n<style scoped>\n    .dataframe tbody tr th:only-of-type {\n        vertical-align: middle;\n    }\n\n    .dataframe tbody tr th {\n        vertical-align: top;\n    }\n\n    .dataframe thead th {\n        text-align: right;\n    }\n</style>\n<table border=\"1\" class=\"dataframe\">\n  <thead>\n    <tr style=\"text-align: right;\">\n      <th></th>\n      <th>Cement</th>\n      <th>Blast Furnace Slag</th>\n      <th>Fly Ash</th>\n      <th>Water</th>\n      <th>Superplasticizer</th>\n      <th>Coarse Aggregate</th>\n      <th>Fine Aggregate</th>\n      <th>Age</th>\n      <th>Strength</th>\n    </tr>\n  </thead>\n  <tbody>\n    <tr>\n      <th>0</th>\n      <td>540.0</td>\n      <td>0.0</td>\n      <td>0.0</td>\n      <td>162.0</td>\n      <td>2.5</td>\n      <td>1040.0</td>\n      <td>676.0</td>\n      <td>28</td>\n      <td>79.99</td>\n    </tr>\n    <tr>\n      <th>1</th>\n      <td>540.0</td>\n      <td>0.0</td>\n      <td>0.0</td>\n      <td>162.0</td>\n      <td>2.5</td>\n      <td>1055.0</td>\n      <td>676.0</td>\n      <td>28</td>\n      <td>61.89</td>\n    </tr>\n    <tr>\n      <th>2</th>\n      <td>332.5</td>\n      <td>142.5</td>\n      <td>0.0</td>\n      <td>228.0</td>\n      <td>0.0</td>\n      <td>932.0</td>\n      <td>594.0</td>\n      <td>270</td>\n      <td>40.27</td>\n    </tr>\n    <tr>\n      <th>3</th>\n      <td>332.5</td>\n      <td>142.5</td>\n      <td>0.0</td>\n      <td>228.0</td>\n      <td>0.0</td>\n      <td>932.0</td>\n      <td>594.0</td>\n      <td>365</td>\n      <td>41.05</td>\n    </tr>\n    <tr>\n      <th>4</th>\n      <td>198.6</td>\n      <td>132.4</td>\n      <td>0.0</td>\n      <td>192.0</td>\n      <td>0.0</td>\n      <td>978.4</td>\n      <td>825.5</td>\n      <td>360</td>\n      <td>44.30</td>\n    </tr>\n  </tbody>\n</table>\n</div>"
                    },
                    "metadata": {}
                }
            ]
        },
        {
            "metadata": {},
            "cell_type": "code",
            "source": "concrete_data.describe()",
            "execution_count": 41,
            "outputs": [
                {
                    "output_type": "execute_result",
                    "execution_count": 41,
                    "data": {
                        "text/plain": "            Cement  Blast Furnace Slag      Fly Ash        Water  \\\ncount  1030.000000         1030.000000  1030.000000  1030.000000   \nmean    281.167864           73.895825    54.188350   181.567282   \nstd     104.506364           86.279342    63.997004    21.354219   \nmin     102.000000            0.000000     0.000000   121.800000   \n25%     192.375000            0.000000     0.000000   164.900000   \n50%     272.900000           22.000000     0.000000   185.000000   \n75%     350.000000          142.950000   118.300000   192.000000   \nmax     540.000000          359.400000   200.100000   247.000000   \n\n       Superplasticizer  Coarse Aggregate  Fine Aggregate          Age  \\\ncount       1030.000000       1030.000000     1030.000000  1030.000000   \nmean           6.204660        972.918932      773.580485    45.662136   \nstd            5.973841         77.753954       80.175980    63.169912   \nmin            0.000000        801.000000      594.000000     1.000000   \n25%            0.000000        932.000000      730.950000     7.000000   \n50%            6.400000        968.000000      779.500000    28.000000   \n75%           10.200000       1029.400000      824.000000    56.000000   \nmax           32.200000       1145.000000      992.600000   365.000000   \n\n          Strength  \ncount  1030.000000  \nmean     35.817961  \nstd      16.705742  \nmin       2.330000  \n25%      23.710000  \n50%      34.445000  \n75%      46.135000  \nmax      82.600000  ",
                        "text/html": "<div>\n<style scoped>\n    .dataframe tbody tr th:only-of-type {\n        vertical-align: middle;\n    }\n\n    .dataframe tbody tr th {\n        vertical-align: top;\n    }\n\n    .dataframe thead th {\n        text-align: right;\n    }\n</style>\n<table border=\"1\" class=\"dataframe\">\n  <thead>\n    <tr style=\"text-align: right;\">\n      <th></th>\n      <th>Cement</th>\n      <th>Blast Furnace Slag</th>\n      <th>Fly Ash</th>\n      <th>Water</th>\n      <th>Superplasticizer</th>\n      <th>Coarse Aggregate</th>\n      <th>Fine Aggregate</th>\n      <th>Age</th>\n      <th>Strength</th>\n    </tr>\n  </thead>\n  <tbody>\n    <tr>\n      <th>count</th>\n      <td>1030.000000</td>\n      <td>1030.000000</td>\n      <td>1030.000000</td>\n      <td>1030.000000</td>\n      <td>1030.000000</td>\n      <td>1030.000000</td>\n      <td>1030.000000</td>\n      <td>1030.000000</td>\n      <td>1030.000000</td>\n    </tr>\n    <tr>\n      <th>mean</th>\n      <td>281.167864</td>\n      <td>73.895825</td>\n      <td>54.188350</td>\n      <td>181.567282</td>\n      <td>6.204660</td>\n      <td>972.918932</td>\n      <td>773.580485</td>\n      <td>45.662136</td>\n      <td>35.817961</td>\n    </tr>\n    <tr>\n      <th>std</th>\n      <td>104.506364</td>\n      <td>86.279342</td>\n      <td>63.997004</td>\n      <td>21.354219</td>\n      <td>5.973841</td>\n      <td>77.753954</td>\n      <td>80.175980</td>\n      <td>63.169912</td>\n      <td>16.705742</td>\n    </tr>\n    <tr>\n      <th>min</th>\n      <td>102.000000</td>\n      <td>0.000000</td>\n      <td>0.000000</td>\n      <td>121.800000</td>\n      <td>0.000000</td>\n      <td>801.000000</td>\n      <td>594.000000</td>\n      <td>1.000000</td>\n      <td>2.330000</td>\n    </tr>\n    <tr>\n      <th>25%</th>\n      <td>192.375000</td>\n      <td>0.000000</td>\n      <td>0.000000</td>\n      <td>164.900000</td>\n      <td>0.000000</td>\n      <td>932.000000</td>\n      <td>730.950000</td>\n      <td>7.000000</td>\n      <td>23.710000</td>\n    </tr>\n    <tr>\n      <th>50%</th>\n      <td>272.900000</td>\n      <td>22.000000</td>\n      <td>0.000000</td>\n      <td>185.000000</td>\n      <td>6.400000</td>\n      <td>968.000000</td>\n      <td>779.500000</td>\n      <td>28.000000</td>\n      <td>34.445000</td>\n    </tr>\n    <tr>\n      <th>75%</th>\n      <td>350.000000</td>\n      <td>142.950000</td>\n      <td>118.300000</td>\n      <td>192.000000</td>\n      <td>10.200000</td>\n      <td>1029.400000</td>\n      <td>824.000000</td>\n      <td>56.000000</td>\n      <td>46.135000</td>\n    </tr>\n    <tr>\n      <th>max</th>\n      <td>540.000000</td>\n      <td>359.400000</td>\n      <td>200.100000</td>\n      <td>247.000000</td>\n      <td>32.200000</td>\n      <td>1145.000000</td>\n      <td>992.600000</td>\n      <td>365.000000</td>\n      <td>82.600000</td>\n    </tr>\n  </tbody>\n</table>\n</div>"
                    },
                    "metadata": {}
                }
            ]
        },
        {
            "metadata": {},
            "cell_type": "code",
            "source": "concrete_data_columns = concrete_data.columns\n\npredictors = concrete_data[concrete_data_columns[concrete_data_columns != 'Strength']] # all columns except Strength\ntarget = concrete_data['Strength'] # Strength column",
            "execution_count": 42,
            "outputs": []
        },
        {
            "metadata": {},
            "cell_type": "code",
            "source": "predictors.head()\n",
            "execution_count": 43,
            "outputs": [
                {
                    "output_type": "execute_result",
                    "execution_count": 43,
                    "data": {
                        "text/plain": "   Cement  Blast Furnace Slag  Fly Ash  Water  Superplasticizer  \\\n0   540.0                 0.0      0.0  162.0               2.5   \n1   540.0                 0.0      0.0  162.0               2.5   \n2   332.5               142.5      0.0  228.0               0.0   \n3   332.5               142.5      0.0  228.0               0.0   \n4   198.6               132.4      0.0  192.0               0.0   \n\n   Coarse Aggregate  Fine Aggregate  Age  \n0            1040.0           676.0   28  \n1            1055.0           676.0   28  \n2             932.0           594.0  270  \n3             932.0           594.0  365  \n4             978.4           825.5  360  ",
                        "text/html": "<div>\n<style scoped>\n    .dataframe tbody tr th:only-of-type {\n        vertical-align: middle;\n    }\n\n    .dataframe tbody tr th {\n        vertical-align: top;\n    }\n\n    .dataframe thead th {\n        text-align: right;\n    }\n</style>\n<table border=\"1\" class=\"dataframe\">\n  <thead>\n    <tr style=\"text-align: right;\">\n      <th></th>\n      <th>Cement</th>\n      <th>Blast Furnace Slag</th>\n      <th>Fly Ash</th>\n      <th>Water</th>\n      <th>Superplasticizer</th>\n      <th>Coarse Aggregate</th>\n      <th>Fine Aggregate</th>\n      <th>Age</th>\n    </tr>\n  </thead>\n  <tbody>\n    <tr>\n      <th>0</th>\n      <td>540.0</td>\n      <td>0.0</td>\n      <td>0.0</td>\n      <td>162.0</td>\n      <td>2.5</td>\n      <td>1040.0</td>\n      <td>676.0</td>\n      <td>28</td>\n    </tr>\n    <tr>\n      <th>1</th>\n      <td>540.0</td>\n      <td>0.0</td>\n      <td>0.0</td>\n      <td>162.0</td>\n      <td>2.5</td>\n      <td>1055.0</td>\n      <td>676.0</td>\n      <td>28</td>\n    </tr>\n    <tr>\n      <th>2</th>\n      <td>332.5</td>\n      <td>142.5</td>\n      <td>0.0</td>\n      <td>228.0</td>\n      <td>0.0</td>\n      <td>932.0</td>\n      <td>594.0</td>\n      <td>270</td>\n    </tr>\n    <tr>\n      <th>3</th>\n      <td>332.5</td>\n      <td>142.5</td>\n      <td>0.0</td>\n      <td>228.0</td>\n      <td>0.0</td>\n      <td>932.0</td>\n      <td>594.0</td>\n      <td>365</td>\n    </tr>\n    <tr>\n      <th>4</th>\n      <td>198.6</td>\n      <td>132.4</td>\n      <td>0.0</td>\n      <td>192.0</td>\n      <td>0.0</td>\n      <td>978.4</td>\n      <td>825.5</td>\n      <td>360</td>\n    </tr>\n  </tbody>\n</table>\n</div>"
                    },
                    "metadata": {}
                }
            ]
        },
        {
            "metadata": {},
            "cell_type": "code",
            "source": "target.head()",
            "execution_count": 44,
            "outputs": [
                {
                    "output_type": "execute_result",
                    "execution_count": 44,
                    "data": {
                        "text/plain": "0    79.99\n1    61.89\n2    40.27\n3    41.05\n4    44.30\nName: Strength, dtype: float64"
                    },
                    "metadata": {}
                }
            ]
        },
        {
            "metadata": {},
            "cell_type": "code",
            "source": "",
            "execution_count": null,
            "outputs": []
        },
        {
            "metadata": {},
            "cell_type": "code",
            "source": "n_cols = predictors.shape[1] # number of predictors",
            "execution_count": 45,
            "outputs": []
        },
        {
            "metadata": {},
            "cell_type": "code",
            "source": "\n# Spliting data into train and test\nX_train, X_test, y_train, y_test = train_test_split(predictors, target, test_size=0.3, shuffle= True)\n",
            "execution_count": 46,
            "outputs": []
        },
        {
            "metadata": {},
            "cell_type": "markdown",
            "source": "# Question  A"
        },
        {
            "metadata": {},
            "cell_type": "code",
            "source": "# define regression model\ndef regression_model():\n    # create model\n    model = Sequential()\n    model.add(Dense(10, activation='relu', input_shape=(n_cols,)))\n    model.add(Dense(1))    \n    # compile model\n    model.compile(optimizer='adam', loss='mean_squared_error')\n    return model",
            "execution_count": 47,
            "outputs": []
        },
        {
            "metadata": {},
            "cell_type": "code",
            "source": "# build the model\nmodel = regression_model()",
            "execution_count": 48,
            "outputs": []
        },
        {
            "metadata": {},
            "cell_type": "code",
            "source": "# fit the model\nmodel.fit(X_train, y_train, validation_split=0.3, epochs=50, verbose=2)",
            "execution_count": 49,
            "outputs": [
                {
                    "output_type": "stream",
                    "text": "Train on 504 samples, validate on 217 samples\nEpoch 1/50\n - 1s - loss: 48824.2296 - val_loss: 35035.1900\nEpoch 2/50\n - 0s - loss: 22158.7443 - val_loss: 14444.7104\nEpoch 3/50\n - 0s - loss: 8575.1145 - val_loss: 5656.9746\nEpoch 4/50\n - 0s - loss: 3820.8212 - val_loss: 2875.2962\nEpoch 5/50\n - 0s - loss: 2594.9920 - val_loss: 2268.3612\nEpoch 6/50\n - 0s - loss: 2421.4598 - val_loss: 2122.6247\nEpoch 7/50\n - 0s - loss: 2351.7446 - val_loss: 2067.5120\nEpoch 8/50\n - 0s - loss: 2277.4045 - val_loss: 2015.1545\nEpoch 9/50\n - 0s - loss: 2207.0798 - val_loss: 1955.1985\nEpoch 10/50\n - 0s - loss: 2137.8614 - val_loss: 1900.7209\nEpoch 11/50\n - 0s - loss: 2066.5463 - val_loss: 1852.1631\nEpoch 12/50\n - 0s - loss: 2004.5680 - val_loss: 1792.0040\nEpoch 13/50\n - 0s - loss: 1934.7491 - val_loss: 1753.4886\nEpoch 14/50\n - 0s - loss: 1872.5980 - val_loss: 1692.2984\nEpoch 15/50\n - 0s - loss: 1810.1260 - val_loss: 1634.3303\nEpoch 16/50\n - 0s - loss: 1744.4413 - val_loss: 1589.2037\nEpoch 17/50\n - 0s - loss: 1660.2992 - val_loss: 1521.3706\nEpoch 18/50\n - 0s - loss: 1578.3763 - val_loss: 1453.9537\nEpoch 19/50\n - 0s - loss: 1503.5930 - val_loss: 1402.3766\nEpoch 20/50\n - 0s - loss: 1440.9447 - val_loss: 1353.8303\nEpoch 21/50\n - 0s - loss: 1368.0427 - val_loss: 1308.3513\nEpoch 22/50\n - 0s - loss: 1305.2512 - val_loss: 1250.2491\nEpoch 23/50\n - 0s - loss: 1234.2885 - val_loss: 1178.8966\nEpoch 24/50\n - 0s - loss: 1149.4839 - val_loss: 1089.9719\nEpoch 25/50\n - 0s - loss: 1058.8463 - val_loss: 1009.5834\nEpoch 26/50\n - 0s - loss: 966.6278 - val_loss: 902.6215\nEpoch 27/50\n - 0s - loss: 863.8872 - val_loss: 813.8275\nEpoch 28/50\n - 0s - loss: 752.9523 - val_loss: 729.0825\nEpoch 29/50\n - 0s - loss: 655.1913 - val_loss: 645.3600\nEpoch 30/50\n - 0s - loss: 573.2803 - val_loss: 575.9249\nEpoch 31/50\n - 0s - loss: 505.0437 - val_loss: 518.3664\nEpoch 32/50\n - 0s - loss: 445.7368 - val_loss: 458.2969\nEpoch 33/50\n - 0s - loss: 388.2295 - val_loss: 419.4053\nEpoch 34/50\n - 0s - loss: 360.3998 - val_loss: 371.6420\nEpoch 35/50\n - 0s - loss: 310.3889 - val_loss: 336.2215\nEpoch 36/50\n - 0s - loss: 280.9646 - val_loss: 306.8977\nEpoch 37/50\n - 0s - loss: 259.2078 - val_loss: 289.2384\nEpoch 38/50\n - 0s - loss: 239.3816 - val_loss: 266.3845\nEpoch 39/50\n - 0s - loss: 220.2411 - val_loss: 247.1271\nEpoch 40/50\n - 0s - loss: 204.6521 - val_loss: 233.4577\nEpoch 41/50\n - 0s - loss: 193.4292 - val_loss: 225.1699\nEpoch 42/50\n - 0s - loss: 182.2841 - val_loss: 212.4525\nEpoch 43/50\n - 0s - loss: 176.3623 - val_loss: 203.9241\nEpoch 44/50\n - 0s - loss: 167.1085 - val_loss: 199.2070\nEpoch 45/50\n - 0s - loss: 160.5053 - val_loss: 185.5799\nEpoch 46/50\n - 0s - loss: 155.6082 - val_loss: 182.2913\nEpoch 47/50\n - 0s - loss: 150.2236 - val_loss: 176.9994\nEpoch 48/50\n - 0s - loss: 150.5229 - val_loss: 172.6108\nEpoch 49/50\n - 0s - loss: 147.7406 - val_loss: 173.1478\nEpoch 50/50\n - 0s - loss: 140.4877 - val_loss: 170.3938\n",
                    "name": "stdout"
                },
                {
                    "output_type": "execute_result",
                    "execution_count": 49,
                    "data": {
                        "text/plain": "<keras.callbacks.History at 0x7fc1ec381b00>"
                    },
                    "metadata": {}
                }
            ]
        },
        {
            "metadata": {},
            "cell_type": "code",
            "source": "# Predict on the test data: y_pred\ny_pred = model.predict(X_test)\n\n# Compute and print MSE\nmse = mean_squared_error(y_test, y_pred)\nprint(\"Mean Squared Error: {}\".format(mse))",
            "execution_count": 50,
            "outputs": [
                {
                    "output_type": "stream",
                    "text": "Mean Squared Error: 163.20515667090348\n",
                    "name": "stdout"
                }
            ]
        },
        {
            "metadata": {},
            "cell_type": "code",
            "source": "mse_list = []\nfor i in range(50):\n    \n    X_train, X_test, y_train, y_test = train_test_split(predictors, target, test_size=0.3, shuffle= True)\n    mse = mean_squared_error(y_test, y_pred)\n    mse_list.append(mse)\n    \n    \nmse_list",
            "execution_count": 51,
            "outputs": [
                {
                    "output_type": "execute_result",
                    "execution_count": 51,
                    "data": {
                        "text/plain": "[386.54535660682643,\n 428.8132389200628,\n 409.2536963406737,\n 368.6527877872977,\n 425.62434115541123,\n 343.3255904480354,\n 472.82584860399146,\n 361.79902473098895,\n 451.7537243053626,\n 449.6249244175566,\n 419.8360339513665,\n 413.0305769135587,\n 388.56935320244736,\n 411.6711421613654,\n 411.1515155995765,\n 471.3705603988281,\n 412.5746721457057,\n 382.3217845862902,\n 438.4991925124855,\n 367.05332760220915,\n 430.33980730906654,\n 402.9976190259993,\n 414.85905210539477,\n 406.1613241406269,\n 384.7424184677943,\n 422.3141439250246,\n 432.0489294341329,\n 386.2295238104445,\n 423.96191346085726,\n 406.70704776759266,\n 419.16076502383135,\n 361.47798468671175,\n 460.5269388291223,\n 418.1976680632636,\n 417.03381330963225,\n 404.5076889251194,\n 372.85057229155797,\n 379.8347188202574,\n 448.6499170648154,\n 366.21588440914996,\n 461.7304781388444,\n 424.3468127832682,\n 439.76066027802193,\n 366.4696309137515,\n 407.5239810787242,\n 414.54485477300636,\n 448.7490759757901,\n 429.53146294231516,\n 385.1560299558354,\n 406.21400311379824]"
                    },
                    "metadata": {}
                }
            ]
        },
        {
            "metadata": {},
            "cell_type": "code",
            "source": "# report  mean and the standard deviation\n# Prints standard deviation \nprint(\"Standard Deviation is % s \" \n                % (statistics.stdev(mse_list))) \n\nprint(\"Mean is % s \" \n                % (statistics.mean(mse_list)))",
            "execution_count": 52,
            "outputs": [
                {
                    "output_type": "stream",
                    "text": "Standard Deviation is 30.69861923570335 \nMean is 411.1428282642758 \n",
                    "name": "stdout"
                }
            ]
        },
        {
            "metadata": {},
            "cell_type": "markdown",
            "source": "# Question B"
        },
        {
            "metadata": {},
            "cell_type": "code",
            "source": "#normalize data\npredictors_norm = (predictors - predictors.mean()) / predictors.std()\npredictors_norm.head()",
            "execution_count": 53,
            "outputs": [
                {
                    "output_type": "execute_result",
                    "execution_count": 53,
                    "data": {
                        "text/plain": "     Cement  Blast Furnace Slag   Fly Ash     Water  Superplasticizer  \\\n0  2.476712           -0.856472 -0.846733 -0.916319         -0.620147   \n1  2.476712           -0.856472 -0.846733 -0.916319         -0.620147   \n2  0.491187            0.795140 -0.846733  2.174405         -1.038638   \n3  0.491187            0.795140 -0.846733  2.174405         -1.038638   \n4 -0.790075            0.678079 -0.846733  0.488555         -1.038638   \n\n   Coarse Aggregate  Fine Aggregate       Age  \n0          0.862735       -1.217079 -0.279597  \n1          1.055651       -1.217079 -0.279597  \n2         -0.526262       -2.239829  3.551340  \n3         -0.526262       -2.239829  5.055221  \n4          0.070492        0.647569  4.976069  ",
                        "text/html": "<div>\n<style scoped>\n    .dataframe tbody tr th:only-of-type {\n        vertical-align: middle;\n    }\n\n    .dataframe tbody tr th {\n        vertical-align: top;\n    }\n\n    .dataframe thead th {\n        text-align: right;\n    }\n</style>\n<table border=\"1\" class=\"dataframe\">\n  <thead>\n    <tr style=\"text-align: right;\">\n      <th></th>\n      <th>Cement</th>\n      <th>Blast Furnace Slag</th>\n      <th>Fly Ash</th>\n      <th>Water</th>\n      <th>Superplasticizer</th>\n      <th>Coarse Aggregate</th>\n      <th>Fine Aggregate</th>\n      <th>Age</th>\n    </tr>\n  </thead>\n  <tbody>\n    <tr>\n      <th>0</th>\n      <td>2.476712</td>\n      <td>-0.856472</td>\n      <td>-0.846733</td>\n      <td>-0.916319</td>\n      <td>-0.620147</td>\n      <td>0.862735</td>\n      <td>-1.217079</td>\n      <td>-0.279597</td>\n    </tr>\n    <tr>\n      <th>1</th>\n      <td>2.476712</td>\n      <td>-0.856472</td>\n      <td>-0.846733</td>\n      <td>-0.916319</td>\n      <td>-0.620147</td>\n      <td>1.055651</td>\n      <td>-1.217079</td>\n      <td>-0.279597</td>\n    </tr>\n    <tr>\n      <th>2</th>\n      <td>0.491187</td>\n      <td>0.795140</td>\n      <td>-0.846733</td>\n      <td>2.174405</td>\n      <td>-1.038638</td>\n      <td>-0.526262</td>\n      <td>-2.239829</td>\n      <td>3.551340</td>\n    </tr>\n    <tr>\n      <th>3</th>\n      <td>0.491187</td>\n      <td>0.795140</td>\n      <td>-0.846733</td>\n      <td>2.174405</td>\n      <td>-1.038638</td>\n      <td>-0.526262</td>\n      <td>-2.239829</td>\n      <td>5.055221</td>\n    </tr>\n    <tr>\n      <th>4</th>\n      <td>-0.790075</td>\n      <td>0.678079</td>\n      <td>-0.846733</td>\n      <td>0.488555</td>\n      <td>-1.038638</td>\n      <td>0.070492</td>\n      <td>0.647569</td>\n      <td>4.976069</td>\n    </tr>\n  </tbody>\n</table>\n</div>"
                    },
                    "metadata": {}
                }
            ]
        },
        {
            "metadata": {},
            "cell_type": "code",
            "source": "n_cols = predictors_norm.shape[1] # number of predictors",
            "execution_count": 54,
            "outputs": []
        },
        {
            "metadata": {},
            "cell_type": "code",
            "source": "X_train, X_test, y_train, y_test = train_test_split(predictors_norm, target, test_size=0.3, shuffle= True)",
            "execution_count": 55,
            "outputs": []
        },
        {
            "metadata": {},
            "cell_type": "code",
            "source": "# fit the model\nmodel.fit(X_train, y_train, validation_split=0.3, epochs=50, verbose=2)",
            "execution_count": 56,
            "outputs": [
                {
                    "output_type": "stream",
                    "text": "Train on 504 samples, validate on 217 samples\nEpoch 1/50\n - 0s - loss: 1495.1331 - val_loss: 1583.6771\nEpoch 2/50\n - 0s - loss: 1470.2810 - val_loss: 1557.3611\nEpoch 3/50\n - 0s - loss: 1441.4334 - val_loss: 1528.5282\nEpoch 4/50\n - 0s - loss: 1411.3508 - val_loss: 1497.4633\nEpoch 5/50\n - 2s - loss: 1378.4899 - val_loss: 1465.6549\nEpoch 6/50\n - 0s - loss: 1345.3087 - val_loss: 1432.4937\nEpoch 7/50\n - 0s - loss: 1310.8164 - val_loss: 1398.6730\nEpoch 8/50\n - 0s - loss: 1276.4887 - val_loss: 1364.2415\nEpoch 9/50\n - 0s - loss: 1241.3943 - val_loss: 1329.7744\nEpoch 10/50\n - 0s - loss: 1206.3092 - val_loss: 1295.7470\nEpoch 11/50\n - 1s - loss: 1171.5461 - val_loss: 1261.8407\nEpoch 12/50\n - 0s - loss: 1138.0296 - val_loss: 1227.4128\nEpoch 13/50\n - 0s - loss: 1103.7415 - val_loss: 1193.8384\nEpoch 14/50\n - 0s - loss: 1071.1839 - val_loss: 1160.3653\nEpoch 15/50\n - 0s - loss: 1038.0430 - val_loss: 1128.3649\nEpoch 16/50\n - 0s - loss: 1006.3132 - val_loss: 1097.1034\nEpoch 17/50\n - 0s - loss: 976.2272 - val_loss: 1065.3892\nEpoch 18/50\n - 0s - loss: 945.7766 - val_loss: 1034.6424\nEpoch 19/50\n - 0s - loss: 915.9834 - val_loss: 1005.5170\nEpoch 20/50\n - 0s - loss: 887.9245 - val_loss: 976.6075\nEpoch 21/50\n - 0s - loss: 860.3835 - val_loss: 948.2939\nEpoch 22/50\n - 0s - loss: 833.8341 - val_loss: 920.6156\nEpoch 23/50\n - 0s - loss: 807.6939 - val_loss: 893.7396\nEpoch 24/50\n - 0s - loss: 782.7944 - val_loss: 867.3104\nEpoch 25/50\n - 0s - loss: 758.4043 - val_loss: 841.9000\nEpoch 26/50\n - 0s - loss: 734.6383 - val_loss: 817.4412\nEpoch 27/50\n - 0s - loss: 712.5956 - val_loss: 792.6233\nEpoch 28/50\n - 0s - loss: 690.3484 - val_loss: 769.2768\nEpoch 29/50\n - 0s - loss: 669.1804 - val_loss: 747.2790\nEpoch 30/50\n - 0s - loss: 649.4059 - val_loss: 725.5580\nEpoch 31/50\n - 0s - loss: 630.2260 - val_loss: 704.2496\nEpoch 32/50\n - 0s - loss: 611.2646 - val_loss: 684.3812\nEpoch 33/50\n - 0s - loss: 593.7351 - val_loss: 664.4640\nEpoch 34/50\n - 0s - loss: 576.9429 - val_loss: 644.8618\nEpoch 35/50\n - 0s - loss: 560.1569 - val_loss: 626.6694\nEpoch 36/50\n - 0s - loss: 544.5813 - val_loss: 609.1618\nEpoch 37/50\n - 0s - loss: 529.7957 - val_loss: 591.8608\nEpoch 38/50\n - 0s - loss: 515.5613 - val_loss: 575.0358\nEpoch 39/50\n - 0s - loss: 501.4364 - val_loss: 559.4373\nEpoch 40/50\n - 0s - loss: 488.6157 - val_loss: 543.9094\nEpoch 41/50\n - 0s - loss: 475.8791 - val_loss: 529.2931\nEpoch 42/50\n - 0s - loss: 463.7063 - val_loss: 515.3603\nEpoch 43/50\n - 0s - loss: 452.4450 - val_loss: 501.4259\nEpoch 44/50\n - 0s - loss: 440.9946 - val_loss: 488.5249\nEpoch 45/50\n - 0s - loss: 430.6774 - val_loss: 475.3274\nEpoch 46/50\n - 0s - loss: 420.2223 - val_loss: 463.3702\nEpoch 47/50\n - 0s - loss: 410.6264 - val_loss: 451.4364\nEpoch 48/50\n - 0s - loss: 401.0584 - val_loss: 440.2302\nEpoch 49/50\n - 0s - loss: 392.1326 - val_loss: 429.3533\nEpoch 50/50\n - 0s - loss: 383.2473 - val_loss: 418.8512\n",
                    "name": "stdout"
                },
                {
                    "output_type": "execute_result",
                    "execution_count": 56,
                    "data": {
                        "text/plain": "<keras.callbacks.History at 0x7fc1ec09f438>"
                    },
                    "metadata": {}
                }
            ]
        },
        {
            "metadata": {},
            "cell_type": "code",
            "source": "# Predict on the test data: y_pred\ny_pred = model.predict(X_test)\n\n# Compute and print RMSE\nNmse = mean_squared_error(y_test, y_pred)\nprint(\" Mean Squared Error: {}\".format(mse))",
            "execution_count": 57,
            "outputs": [
                {
                    "output_type": "stream",
                    "text": " Mean Squared Error: 406.21400311379824\n",
                    "name": "stdout"
                }
            ]
        },
        {
            "metadata": {},
            "cell_type": "code",
            "source": "",
            "execution_count": null,
            "outputs": []
        },
        {
            "metadata": {},
            "cell_type": "code",
            "source": "Nmse_list = []\nfor i in range(50):\n    \n    X_train, X_test, y_train, y_test = train_test_split(predictors_norm, target, test_size=0.3, shuffle= True)\n    mse = mean_squared_error(y_test, y_pred)\n    Nmse_list.append(mse)\n    \n    \nNmse_list",
            "execution_count": 58,
            "outputs": [
                {
                    "output_type": "execute_result",
                    "execution_count": 58,
                    "data": {
                        "text/plain": "[605.335736999527,\n 625.456398731581,\n 653.6370611391258,\n 618.8607068587113,\n 582.6181981826719,\n 607.2162941101079,\n 597.9225342865025,\n 639.07094641029,\n 711.8820069462543,\n 644.1969619974974,\n 633.170512744409,\n 681.5651845590578,\n 601.0262128460589,\n 604.8679649077138,\n 641.7515812153731,\n 589.1606616891193,\n 662.8324908765834,\n 661.580741140916,\n 573.8369360877601,\n 655.75398156909,\n 595.8940965228718,\n 662.6375762802419,\n 577.5507101127049,\n 658.3260614213424,\n 577.529127533539,\n 635.1444463504137,\n 661.2138639436362,\n 660.6920751444738,\n 642.775164068665,\n 574.3232562690449,\n 691.0593856081915,\n 574.9942305588124,\n 691.1958458189762,\n 569.0036387433721,\n 634.7041992373516,\n 668.2954740002745,\n 562.0722578673228,\n 627.9591855480785,\n 558.3724149797204,\n 561.2421247203363,\n 639.2633735435096,\n 595.7166246207535,\n 569.7112398429753,\n 625.4466742484445,\n 651.1223668605026,\n 683.1486000423027,\n 701.9086431533805,\n 575.2504319455093,\n 605.6203689800063,\n 624.9762296238895]"
                    },
                    "metadata": {}
                }
            ]
        },
        {
            "metadata": {},
            "cell_type": "code",
            "source": "# report  mean and the standard deviation\n# Prints standard deviation \nprint(\"Standard Deviation is % s \" \n                % (statistics.stdev(Nmse_list))) \n\nprint(\"Mean is % s \" \n                % (statistics.mean(Nmse_list)))",
            "execution_count": 59,
            "outputs": [
                {
                    "output_type": "stream",
                    "text": "Standard Deviation is 41.29833412700124 \nMean is 624.9778560177799 \n",
                    "name": "stdout"
                }
            ]
        },
        {
            "metadata": {},
            "cell_type": "markdown",
            "source": "# Question C"
        },
        {
            "metadata": {},
            "cell_type": "code",
            "source": "# fit the model 100 epochs\nmodel1 = regression_model()\nmodel1.fit(X_train, y_train, validation_split=0.3, epochs=100, verbose=2)",
            "execution_count": 60,
            "outputs": [
                {
                    "output_type": "stream",
                    "text": "Train on 504 samples, validate on 217 samples\nEpoch 1/100\n - 1s - loss: 1550.6311 - val_loss: 1456.4155\nEpoch 2/100\n - 0s - loss: 1539.6487 - val_loss: 1445.9152\nEpoch 3/100\n - 0s - loss: 1528.2644 - val_loss: 1435.2055\nEpoch 4/100\n - 0s - loss: 1516.7076 - val_loss: 1424.2443\nEpoch 5/100\n - 0s - loss: 1504.9742 - val_loss: 1412.9120\nEpoch 6/100\n - 0s - loss: 1492.7072 - val_loss: 1401.3310\nEpoch 7/100\n - 0s - loss: 1480.0853 - val_loss: 1389.3386\nEpoch 8/100\n - 0s - loss: 1467.0342 - val_loss: 1376.5548\nEpoch 9/100\n - 0s - loss: 1453.1445 - val_loss: 1363.2059\nEpoch 10/100\n - 0s - loss: 1438.7753 - val_loss: 1349.0308\nEpoch 11/100\n - 0s - loss: 1423.4500 - val_loss: 1334.2691\nEpoch 12/100\n - 0s - loss: 1407.1970 - val_loss: 1318.8805\nEpoch 13/100\n - 0s - loss: 1390.5681 - val_loss: 1302.1931\nEpoch 14/100\n - 0s - loss: 1372.4277 - val_loss: 1285.1233\nEpoch 15/100\n - 0s - loss: 1353.7848 - val_loss: 1267.1164\nEpoch 16/100\n - 0s - loss: 1334.2605 - val_loss: 1248.2961\nEpoch 17/100\n - 0s - loss: 1313.7022 - val_loss: 1228.8819\nEpoch 18/100\n - 0s - loss: 1292.5322 - val_loss: 1208.6071\nEpoch 19/100\n - 0s - loss: 1270.5684 - val_loss: 1187.3218\nEpoch 20/100\n - 0s - loss: 1247.5653 - val_loss: 1165.7412\nEpoch 21/100\n - 0s - loss: 1223.7727 - val_loss: 1143.6734\nEpoch 22/100\n - 0s - loss: 1199.6868 - val_loss: 1120.5752\nEpoch 23/100\n - 0s - loss: 1174.6096 - val_loss: 1097.2821\nEpoch 24/100\n - 0s - loss: 1149.5365 - val_loss: 1073.1083\nEpoch 25/100\n - 0s - loss: 1123.3331 - val_loss: 1048.9107\nEpoch 26/100\n - 0s - loss: 1097.0523 - val_loss: 1024.2975\nEpoch 27/100\n - 0s - loss: 1070.2986 - val_loss: 999.5741\nEpoch 28/100\n - 0s - loss: 1043.2738 - val_loss: 974.5189\nEpoch 29/100\n - 0s - loss: 1016.2541 - val_loss: 948.9037\nEpoch 30/100\n - 0s - loss: 988.6596 - val_loss: 923.5342\nEpoch 31/100\n - 0s - loss: 960.7922 - val_loss: 898.4101\nEpoch 32/100\n - 0s - loss: 933.3523 - val_loss: 872.8478\nEpoch 33/100\n - 0s - loss: 905.5944 - val_loss: 847.5674\nEpoch 34/100\n - 0s - loss: 878.4027 - val_loss: 822.2631\nEpoch 35/100\n - 0s - loss: 850.7054 - val_loss: 797.7873\nEpoch 36/100\n - 0s - loss: 823.7915 - val_loss: 773.4392\nEpoch 37/100\n - 2s - loss: 797.3854 - val_loss: 748.9943\nEpoch 38/100\n - 0s - loss: 770.7032 - val_loss: 725.3040\nEpoch 39/100\n - 0s - loss: 744.6030 - val_loss: 702.2140\nEpoch 40/100\n - 0s - loss: 719.4232 - val_loss: 679.2551\nEpoch 41/100\n - 0s - loss: 694.6073 - val_loss: 656.7467\nEpoch 42/100\n - 1s - loss: 670.0480 - val_loss: 635.3098\nEpoch 43/100\n - 0s - loss: 646.4426 - val_loss: 614.2748\nEpoch 44/100\n - 0s - loss: 623.2519 - val_loss: 593.9808\nEpoch 45/100\n - 0s - loss: 601.0779 - val_loss: 574.1669\nEpoch 46/100\n - 0s - loss: 579.2069 - val_loss: 555.3396\nEpoch 47/100\n - 0s - loss: 558.4079 - val_loss: 537.1803\nEpoch 48/100\n - 0s - loss: 538.2709 - val_loss: 519.8530\nEpoch 49/100\n - 0s - loss: 518.8596 - val_loss: 503.1154\nEpoch 50/100\n - 0s - loss: 500.3341 - val_loss: 487.0357\nEpoch 51/100\n - 0s - loss: 482.4696 - val_loss: 471.8556\nEpoch 52/100\n - 0s - loss: 465.6880 - val_loss: 457.2020\nEpoch 53/100\n - 0s - loss: 449.5170 - val_loss: 443.3604\nEpoch 54/100\n - 0s - loss: 434.0061 - val_loss: 430.3050\nEpoch 55/100\n - 0s - loss: 419.3723 - val_loss: 417.7317\nEpoch 56/100\n - 0s - loss: 405.4051 - val_loss: 405.9615\nEpoch 57/100\n - 0s - loss: 392.1149 - val_loss: 394.7651\nEpoch 58/100\n - 0s - loss: 379.4168 - val_loss: 384.3853\nEpoch 59/100\n - 0s - loss: 367.4765 - val_loss: 374.6121\nEpoch 60/100\n - 0s - loss: 356.4473 - val_loss: 365.0893\nEpoch 61/100\n - 0s - loss: 345.3614 - val_loss: 356.5869\nEpoch 62/100\n - 0s - loss: 335.5580 - val_loss: 348.2089\nEpoch 63/100\n - 0s - loss: 325.9119 - val_loss: 340.4012\nEpoch 64/100\n - 0s - loss: 316.9819 - val_loss: 333.0990\nEpoch 65/100\n - 0s - loss: 308.3895 - val_loss: 326.3494\nEpoch 66/100\n - 0s - loss: 300.6602 - val_loss: 319.7316\nEpoch 67/100\n - 0s - loss: 293.1224 - val_loss: 313.7378\nEpoch 68/100\n - 0s - loss: 285.9842 - val_loss: 308.0951\nEpoch 69/100\n - 0s - loss: 279.1537 - val_loss: 303.0709\nEpoch 70/100\n - 0s - loss: 273.2398 - val_loss: 297.7504\nEpoch 71/100\n - 0s - loss: 267.2566 - val_loss: 293.0697\nEpoch 72/100\n - 0s - loss: 261.4696 - val_loss: 288.5766\nEpoch 73/100\n - 0s - loss: 256.2751 - val_loss: 284.3782\nEpoch 74/100\n - 0s - loss: 251.3172 - val_loss: 280.3551\nEpoch 75/100\n - 0s - loss: 246.6566 - val_loss: 276.4087\nEpoch 76/100\n - 0s - loss: 242.2997 - val_loss: 272.8266\nEpoch 77/100\n - 0s - loss: 237.9630 - val_loss: 269.5527\nEpoch 78/100\n - 0s - loss: 234.0427 - val_loss: 266.3304\nEpoch 79/100\n - 0s - loss: 230.3185 - val_loss: 263.2769\nEpoch 80/100\n - 1s - loss: 227.0201 - val_loss: 260.3575\nEpoch 81/100\n - 0s - loss: 223.4474 - val_loss: 257.5716\nEpoch 82/100\n - 0s - loss: 220.2633 - val_loss: 255.0327\nEpoch 83/100\n - 0s - loss: 217.5013 - val_loss: 252.4768\nEpoch 84/100\n - 0s - loss: 214.4845 - val_loss: 249.9741\nEpoch 85/100\n - 0s - loss: 211.6609 - val_loss: 247.8288\nEpoch 86/100\n - 0s - loss: 209.3291 - val_loss: 245.6582\nEpoch 87/100\n - 0s - loss: 206.6928 - val_loss: 243.3596\nEpoch 88/100\n - 0s - loss: 204.4101 - val_loss: 241.2216\nEpoch 89/100\n - 0s - loss: 202.2099 - val_loss: 239.4598\nEpoch 90/100\n - 0s - loss: 199.9885 - val_loss: 237.6012\nEpoch 91/100\n - 0s - loss: 197.9031 - val_loss: 235.7445\nEpoch 92/100\n - 0s - loss: 195.9980 - val_loss: 233.7902\nEpoch 93/100\n - 0s - loss: 194.0305 - val_loss: 232.1447\nEpoch 94/100\n - 0s - loss: 192.2752 - val_loss: 230.8557\nEpoch 95/100\n - 0s - loss: 190.4379 - val_loss: 229.1820\nEpoch 96/100\n - 0s - loss: 188.7030 - val_loss: 227.5444\nEpoch 97/100\n - 0s - loss: 187.1358 - val_loss: 225.9911\nEpoch 98/100\n - 0s - loss: 185.4992 - val_loss: 224.3390\nEpoch 99/100\n - 0s - loss: 183.9610 - val_loss: 222.9052\nEpoch 100/100\n - 0s - loss: 182.4411 - val_loss: 221.3857\n",
                    "name": "stdout"
                },
                {
                    "output_type": "execute_result",
                    "execution_count": 60,
                    "data": {
                        "text/plain": "<keras.callbacks.History at 0x7fc28c960320>"
                    },
                    "metadata": {}
                }
            ]
        },
        {
            "metadata": {},
            "cell_type": "code",
            "source": "",
            "execution_count": null,
            "outputs": []
        },
        {
            "metadata": {},
            "cell_type": "code",
            "source": "# Predict on the test data: y_pred\ny_pred = model1.predict(X_test)\n\n# Compute and print RMSE\nNmse = mean_squared_error(y_test, y_pred)\nprint(\" Mean Squared Error: {}\".format(mse))",
            "execution_count": 61,
            "outputs": [
                {
                    "output_type": "stream",
                    "text": " Mean Squared Error: 624.9762296238895\n",
                    "name": "stdout"
                }
            ]
        },
        {
            "metadata": {},
            "cell_type": "code",
            "source": "Nmse_list = []\nfor i in range(50):\n    \n    X_train, X_test, y_train, y_test = train_test_split(predictors_norm, target, test_size=0.3, shuffle= True)\n    mse = np.sqrt(mean_squared_error(y_test, y_pred))\n    Nmse_list.append(mse)\n    \n    \nNmse_list",
            "execution_count": 62,
            "outputs": [
                {
                    "output_type": "execute_result",
                    "execution_count": 62,
                    "data": {
                        "text/plain": "[22.038028497017326,\n 22.3887836420074,\n 21.627519592659368,\n 20.331377896321985,\n 22.031513590193722,\n 21.809347930070626,\n 22.141184861954613,\n 22.261568965589596,\n 22.80003254596999,\n 22.382090090888585,\n 23.084892387467256,\n 22.05114017975416,\n 22.425233943505287,\n 21.33890250622632,\n 22.379691543865576,\n 22.89533599148827,\n 21.990313801994137,\n 20.234188971363082,\n 22.51829866334692,\n 24.39074851532772,\n 20.60416533852088,\n 21.54201084415925,\n 22.68946003823464,\n 22.46644910409977,\n 22.6067807565032,\n 22.532432142901595,\n 23.058484308251266,\n 22.149183720850157,\n 23.194324478653762,\n 21.376024811368787,\n 22.13493577020451,\n 21.97106281589691,\n 23.902103550173816,\n 20.6037568606301,\n 21.423310274257133,\n 23.573438492347666,\n 22.612332751562494,\n 23.168161664734093,\n 22.951174679201827,\n 22.123751945787788,\n 23.09991141125784,\n 22.845840928174383,\n 21.86834060123185,\n 22.962513089389372,\n 21.70005215739133,\n 22.256363505576342,\n 22.207413947712908,\n 20.79943913733367,\n 21.78164727871656,\n 20.92791211869977]"
                    },
                    "metadata": {}
                }
            ]
        },
        {
            "metadata": {},
            "cell_type": "code",
            "source": "# report  mean and the standard deviation\n# Prints standard deviation \nprint(\"Standard Deviation is % s \" \n                % (statistics.stdev(Nmse_list))) \n\nprint(\"Mean is % s \" \n                % (statistics.mean(Nmse_list)))",
            "execution_count": 63,
            "outputs": [
                {
                    "output_type": "stream",
                    "text": "Standard Deviation is 0.8684060768570312 \nMean is 22.205059452816712 \n",
                    "name": "stdout"
                }
            ]
        },
        {
            "metadata": {},
            "cell_type": "markdown",
            "source": "# Question D"
        },
        {
            "metadata": {},
            "cell_type": "code",
            "source": "target = to_categorical(target, )\nX_train, X_test, y_train, y_test = train_test_split(predictors_norm, target, test_size=0.3, shuffle= True)\n\nn_cols = predictors_norm.shape[1]\nn_output = target.shape[1]\n\nprint(n_cols)\nprint(n_output)",
            "execution_count": 64,
            "outputs": [
                {
                    "output_type": "stream",
                    "text": "8\n83\n",
                    "name": "stdout"
                }
            ]
        },
        {
            "metadata": {},
            "cell_type": "code",
            "source": "y_train",
            "execution_count": 65,
            "outputs": [
                {
                    "output_type": "execute_result",
                    "execution_count": 65,
                    "data": {
                        "text/plain": "array([[0., 0., 0., ..., 0., 0., 0.],\n       [0., 0., 0., ..., 0., 0., 0.],\n       [0., 0., 0., ..., 0., 0., 0.],\n       ...,\n       [0., 0., 0., ..., 0., 0., 0.],\n       [0., 0., 0., ..., 0., 0., 0.],\n       [0., 0., 0., ..., 0., 0., 0.]], dtype=float32)"
                    },
                    "metadata": {}
                }
            ]
        },
        {
            "metadata": {},
            "cell_type": "code",
            "source": "# define RN model\n    model = Sequential()\n    model.add(Dense(10, activation='relu', input_shape=(n_cols,)))\n    model.add(Dense(10, activation='relu'))\n    model.add(Dense(10, activation='relu'))\n    model.add(Dense(n_output, activation='softmax'))\n    \n    \n    # compile model\n    model.compile(optimizer='adam', loss='mean_squared_error', metrics=['mean_squared_error'])\n    model.summary()\n  ",
            "execution_count": 78,
            "outputs": [
                {
                    "output_type": "stream",
                    "text": "_________________________________________________________________\nLayer (type)                 Output Shape              Param #   \n=================================================================\ndense_33 (Dense)             (None, 10)                90        \n_________________________________________________________________\ndense_34 (Dense)             (None, 10)                110       \n_________________________________________________________________\ndense_35 (Dense)             (None, 10)                110       \n_________________________________________________________________\ndense_36 (Dense)             (None, 83)                913       \n=================================================================\nTotal params: 1,223\nTrainable params: 1,223\nNon-trainable params: 0\n_________________________________________________________________\n",
                    "name": "stdout"
                }
            ]
        },
        {
            "metadata": {},
            "cell_type": "code",
            "source": "#fit model\nmodel.fit(X_train, y_train, epochs=50, verbose=2)",
            "execution_count": 79,
            "outputs": [
                {
                    "output_type": "stream",
                    "text": "Epoch 1/50\n - 2s - loss: 0.0119 - mean_squared_error: 0.0119\nEpoch 2/50\n - 0s - loss: 0.0119 - mean_squared_error: 0.0119\nEpoch 3/50\n - 0s - loss: 0.0119 - mean_squared_error: 0.0119\nEpoch 4/50\n - 0s - loss: 0.0119 - mean_squared_error: 0.0119\nEpoch 5/50\n - 0s - loss: 0.0119 - mean_squared_error: 0.0119\nEpoch 6/50\n - 0s - loss: 0.0119 - mean_squared_error: 0.0119\nEpoch 7/50\n - 0s - loss: 0.0119 - mean_squared_error: 0.0119\nEpoch 8/50\n - 0s - loss: 0.0119 - mean_squared_error: 0.0119\nEpoch 9/50\n - 0s - loss: 0.0119 - mean_squared_error: 0.0119\nEpoch 10/50\n - 0s - loss: 0.0118 - mean_squared_error: 0.0118\nEpoch 11/50\n - 0s - loss: 0.0118 - mean_squared_error: 0.0118\nEpoch 12/50\n - 0s - loss: 0.0118 - mean_squared_error: 0.0118\nEpoch 13/50\n - 0s - loss: 0.0118 - mean_squared_error: 0.0118\nEpoch 14/50\n - 0s - loss: 0.0118 - mean_squared_error: 0.0118\nEpoch 15/50\n - 0s - loss: 0.0118 - mean_squared_error: 0.0118\nEpoch 16/50\n - 0s - loss: 0.0118 - mean_squared_error: 0.0118\nEpoch 17/50\n - 0s - loss: 0.0118 - mean_squared_error: 0.0118\nEpoch 18/50\n - 0s - loss: 0.0118 - mean_squared_error: 0.0118\nEpoch 19/50\n - 0s - loss: 0.0118 - mean_squared_error: 0.0118\nEpoch 20/50\n - 0s - loss: 0.0118 - mean_squared_error: 0.0118\nEpoch 21/50\n - 0s - loss: 0.0118 - mean_squared_error: 0.0118\nEpoch 22/50\n - 0s - loss: 0.0118 - mean_squared_error: 0.0118\nEpoch 23/50\n - 0s - loss: 0.0118 - mean_squared_error: 0.0118\nEpoch 24/50\n - 0s - loss: 0.0118 - mean_squared_error: 0.0118\nEpoch 25/50\n - 2s - loss: 0.0118 - mean_squared_error: 0.0118\nEpoch 26/50\n - 0s - loss: 0.0118 - mean_squared_error: 0.0118\nEpoch 27/50\n - 2s - loss: 0.0118 - mean_squared_error: 0.0118\nEpoch 28/50\n - 0s - loss: 0.0118 - mean_squared_error: 0.0118\nEpoch 29/50\n - 0s - loss: 0.0117 - mean_squared_error: 0.0117\nEpoch 30/50\n - 0s - loss: 0.0117 - mean_squared_error: 0.0117\nEpoch 31/50\n - 0s - loss: 0.0117 - mean_squared_error: 0.0117\nEpoch 32/50\n - 0s - loss: 0.0117 - mean_squared_error: 0.0117\nEpoch 33/50\n - 1s - loss: 0.0117 - mean_squared_error: 0.0117\nEpoch 34/50\n - 0s - loss: 0.0117 - mean_squared_error: 0.0117\nEpoch 35/50\n - 1s - loss: 0.0117 - mean_squared_error: 0.0117\nEpoch 36/50\n - 0s - loss: 0.0117 - mean_squared_error: 0.0117\nEpoch 37/50\n - 1s - loss: 0.0117 - mean_squared_error: 0.0117\nEpoch 38/50\n - 0s - loss: 0.0117 - mean_squared_error: 0.0117\nEpoch 39/50\n - 0s - loss: 0.0117 - mean_squared_error: 0.0117\nEpoch 40/50\n - 1s - loss: 0.0117 - mean_squared_error: 0.0117\nEpoch 41/50\n - 0s - loss: 0.0116 - mean_squared_error: 0.0116\nEpoch 42/50\n - 0s - loss: 0.0116 - mean_squared_error: 0.0116\nEpoch 43/50\n - 0s - loss: 0.0116 - mean_squared_error: 0.0116\nEpoch 44/50\n - 0s - loss: 0.0116 - mean_squared_error: 0.0116\nEpoch 45/50\n - 0s - loss: 0.0116 - mean_squared_error: 0.0116\nEpoch 46/50\n - 0s - loss: 0.0116 - mean_squared_error: 0.0116\nEpoch 47/50\n - 0s - loss: 0.0116 - mean_squared_error: 0.0116\nEpoch 48/50\n - 2s - loss: 0.0116 - mean_squared_error: 0.0116\nEpoch 49/50\n - 0s - loss: 0.0116 - mean_squared_error: 0.0116\nEpoch 50/50\n - 1s - loss: 0.0116 - mean_squared_error: 0.0116\n",
                    "name": "stdout"
                },
                {
                    "output_type": "execute_result",
                    "execution_count": 79,
                    "data": {
                        "text/plain": "<keras.callbacks.History at 0x7fc1483cfe48>"
                    },
                    "metadata": {}
                }
            ]
        },
        {
            "metadata": {},
            "cell_type": "code",
            "source": "#predict model model\n#model.predict(X_test)",
            "execution_count": 72,
            "outputs": []
        },
        {
            "metadata": {},
            "cell_type": "code",
            "source": "_ , mean_squared_error = model.evaluate(X_test, y_test)\nprint('mean_squared_error:%s' % (mean_squared_error))",
            "execution_count": 84,
            "outputs": [
                {
                    "output_type": "stream",
                    "text": "309/309 [==============================] - 0s 298us/step\nmean_squared_error:0.011815901586490542\n",
                    "name": "stdout"
                }
            ]
        },
        {
            "metadata": {},
            "cell_type": "code",
            "source": "mse_list = []\nfor i in range(50):\n    \n    X_train, X_test, y_train, y_test = train_test_split(predictors, target, test_size=0.3, shuffle= True)\n    _ , mean_squared_error = model.evaluate(X_test, y_test)\n    mse_list.append(mean_squared_error)\n    \n    \nmse_list",
            "execution_count": 86,
            "outputs": [
                {
                    "output_type": "stream",
                    "text": "309/309 [==============================] - 0s 267us/step\n309/309 [==============================] - 0s 368us/step\n309/309 [==============================] - 0s 315us/step\n309/309 [==============================] - 0s 258us/step\n309/309 [==============================] - 0s 340us/step\n309/309 [==============================] - 0s 289us/step\n309/309 [==============================] - 0s 307us/step\n309/309 [==============================] - 0s 313us/step\n309/309 [==============================] - 0s 275us/step\n309/309 [==============================] - 0s 292us/step\n309/309 [==============================] - 0s 255us/step\n309/309 [==============================] - 0s 316us/step\n309/309 [==============================] - 0s 307us/step\n309/309 [==============================] - 0s 278us/step\n309/309 [==============================] - 0s 307us/step\n309/309 [==============================] - 0s 308us/step\n309/309 [==============================] - 0s 260us/step\n309/309 [==============================] - 0s 308us/step\n309/309 [==============================] - 0s 309us/step\n309/309 [==============================] - 0s 256us/step\n309/309 [==============================] - 0s 310us/step\n309/309 [==============================] - 0s 254us/step\n309/309 [==============================] - 0s 326us/step\n309/309 [==============================] - 0s 289us/step\n309/309 [==============================] - 0s 296us/step\n309/309 [==============================] - 0s 270us/step\n309/309 [==============================] - 0s 259us/step\n309/309 [==============================] - 0s 307us/step\n309/309 [==============================] - 0s 256us/step\n309/309 [==============================] - 0s 265us/step\n309/309 [==============================] - 0s 322us/step\n309/309 [==============================] - 0s 257us/step\n309/309 [==============================] - 0s 313us/step\n309/309 [==============================] - 0s 320us/step\n309/309 [==============================] - 2s 5ms/step\n309/309 [==============================] - 0s 324us/step\n309/309 [==============================] - 0s 292us/step\n309/309 [==============================] - 0s 252us/step\n309/309 [==============================] - 0s 294us/step\n309/309 [==============================] - 0s 270us/step\n309/309 [==============================] - 1s 4ms/step\n309/309 [==============================] - 0s 407us/step\n309/309 [==============================] - 0s 263us/step\n309/309 [==============================] - 0s 302us/step\n309/309 [==============================] - 0s 258us/step\n309/309 [==============================] - 0s 305us/step\n309/309 [==============================] - 0s 252us/step\n309/309 [==============================] - 0s 318us/step\n309/309 [==============================] - 0s 262us/step\n309/309 [==============================] - 0s 258us/step\n",
                    "name": "stdout"
                },
                {
                    "output_type": "execute_result",
                    "execution_count": 86,
                    "data": {
                        "text/plain": "[0.02378445752808963,\n 0.023160603036049113,\n 0.02347253015246785,\n 0.023472530411670894,\n 0.023940421086298996,\n 0.02378445752808963,\n 0.02362849396988026,\n 0.02378445746178187,\n 0.023706475748984945,\n 0.023628493903572505,\n 0.02386243930719431,\n 0.023706475748984945,\n 0.023550512184747602,\n 0.023940421086298996,\n 0.023706475748984945,\n 0.023316566787153773,\n 0.023394548632566212,\n 0.02355051219077558,\n 0.023394548632566212,\n 0.02362849396988026,\n 0.02362849396988026,\n 0.023316566787153773,\n 0.02355051219077558,\n 0.023550512184747602,\n 0.02386243930719431,\n 0.02355051219077558,\n 0.023706475748984945,\n 0.023706475748984945,\n 0.023238584881461553,\n 0.023628493903572505,\n 0.02355051219077558,\n 0.023628493903572505,\n 0.02386243930719431,\n 0.023472530411670894,\n 0.023706475748984945,\n 0.02347253034536314,\n 0.023472530411670894,\n 0.023394548632566212,\n 0.02355051212446782,\n 0.02378445752808963,\n 0.02347253034536314,\n 0.02378445752808963,\n 0.023940421086298996,\n 0.023706475748984945,\n 0.023706475748984945,\n 0.023628493903572505,\n 0.023394548632566212,\n 0.023472530411670894,\n 0.024018402865403677,\n 0.023394548566258454]"
                    },
                    "metadata": {}
                }
            ]
        },
        {
            "metadata": {},
            "cell_type": "code",
            "source": "# report  mean\nprint(\"Mean mse is % s \" \n                % (statistics.mean(mse_list)))",
            "execution_count": 87,
            "outputs": [
                {
                    "output_type": "stream",
                    "text": "Mean mse is 0.023611337949422377 \n",
                    "name": "stdout"
                }
            ]
        },
        {
            "metadata": {},
            "cell_type": "code",
            "source": "",
            "execution_count": null,
            "outputs": []
        }
    ],
    "metadata": {
        "kernelspec": {
            "name": "python3",
            "display_name": "Python 3.6",
            "language": "python"
        },
        "language_info": {
            "name": "python",
            "version": "3.6.9",
            "mimetype": "text/x-python",
            "codemirror_mode": {
                "name": "ipython",
                "version": 3
            },
            "pygments_lexer": "ipython3",
            "nbconvert_exporter": "python",
            "file_extension": ".py"
        }
    },
    "nbformat": 4,
    "nbformat_minor": 1
}
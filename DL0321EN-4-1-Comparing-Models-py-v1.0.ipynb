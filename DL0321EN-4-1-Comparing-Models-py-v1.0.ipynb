{
    "cells": [
        {
            "metadata": {
                "button": false,
                "new_sheet": false,
                "run_control": {
                    "read_only": false
                },
                "id": "zgJVtGAT5u0x",
                "colab_type": "text"
            },
            "cell_type": "markdown",
            "source": "<a href=\"https://cognitiveclass.ai\"><img src = \"https://s3-api.us-geo.objectstorage.softlayer.net/cf-courses-data/CognitiveClass/Logos/organization_logo/organization_logo.png\" width = 400> </a>\n\n<h1 align=center><font size = 5>Peer Review Final Assignment</font></h1>"
        },
        {
            "metadata": {
                "button": false,
                "new_sheet": false,
                "run_control": {
                    "read_only": false
                },
                "id": "Q4DNOp2p5u0z",
                "colab_type": "text"
            },
            "cell_type": "markdown",
            "source": "## Introduction\n"
        },
        {
            "metadata": {
                "button": false,
                "new_sheet": false,
                "run_control": {
                    "read_only": false
                },
                "id": "UEHb5wrj5u01",
                "colab_type": "text"
            },
            "cell_type": "markdown",
            "source": "In this lab, you will build an image classifier using the VGG16 pre-trained model, and you will evaluate it and compare its performance to the model we built in the last module using the ResNet50 pre-trained model. Good luck!"
        },
        {
            "metadata": {
                "button": false,
                "new_sheet": false,
                "run_control": {
                    "read_only": false
                },
                "id": "nyn-P-vs5u02",
                "colab_type": "text"
            },
            "cell_type": "markdown",
            "source": "## Table of Contents\n\n<div class=\"alert alert-block alert-info\" style=\"margin-top: 20px\">\n\n<font size = 3>    \n\n1. <a href=\"#item41\">Download Data \n2. <a href=\"#item42\">Part 1</a>\n3. <a href=\"#item43\">Part 2</a>  \n4. <a href=\"#item44\">Part 3</a>  \n\n</font>\n    \n</div>"
        },
        {
            "metadata": {
                "button": false,
                "new_sheet": false,
                "run_control": {
                    "read_only": false
                },
                "id": "XEShSyRY5u04",
                "colab_type": "text"
            },
            "cell_type": "markdown",
            "source": "   "
        },
        {
            "metadata": {
                "id": "b3EDxhNq5u06",
                "colab_type": "text"
            },
            "cell_type": "markdown",
            "source": "<a id=\"item41\"></a>"
        },
        {
            "metadata": {
                "id": "natkKynB5u08",
                "colab_type": "text"
            },
            "cell_type": "markdown",
            "source": "## Download Data"
        },
        {
            "metadata": {
                "id": "BNlfBUCy5u0-",
                "colab_type": "text"
            },
            "cell_type": "markdown",
            "source": "Use the <code>wget</code> command to download the data for this assignment from here: https://s3-api.us-geo.objectstorage.softlayer.net/cf-courses-data/CognitiveClass/DL0321EN/data/concrete_data_week4.zip"
        },
        {
            "metadata": {
                "id": "wrSofMSa5u0_",
                "colab_type": "text"
            },
            "cell_type": "markdown",
            "source": "Use the following cells to download the data."
        },
        {
            "metadata": {
                "id": "L0Br67qx5u1B",
                "colab_type": "code",
                "colab": {
                    "base_uri": "https://localhost:8080/",
                    "height": 224
                },
                "outputId": "714c0b15-c933-4d0a-a3c5-80b9fbdd6015",
                "executionInfo": {
                    "status": "ok",
                    "timestamp": 1586015756660,
                    "user_tz": -120,
                    "elapsed": 12103,
                    "user": {
                        "displayName": "Gh Rf",
                        "photoUrl": "",
                        "userId": "05533162023469766638"
                    }
                }
            },
            "cell_type": "code",
            "source": "! wget  https://s3-api.us-geo.objectstorage.softlayer.net/cf-courses-data/CognitiveClass/DL0321EN/data/concrete_data_week4.zip",
            "execution_count": 1,
            "outputs": [
                {
                    "output_type": "stream",
                    "text": "--2020-04-05 09:31:30--  https://s3-api.us-geo.objectstorage.softlayer.net/cf-courses-data/CognitiveClass/DL0321EN/data/concrete_data_week4.zip\nResolving s3-api.us-geo.objectstorage.softlayer.net (s3-api.us-geo.objectstorage.softlayer.net)... 67.228.254.196\nConnecting to s3-api.us-geo.objectstorage.softlayer.net (s3-api.us-geo.objectstorage.softlayer.net)|67.228.254.196|:443... connected.\nHTTP request sent, awaiting response... 200 OK\nLength: 261483817 (249M) [application/zip]\nSaving to: \u2018concrete_data_week4.zip\u2019\n\n100%[======================================>] 261,483,817 11.0MB/s   in 10s    \n\n2020-04-05 09:31:41 (24.1 MB/s) - \u2018concrete_data_week4.zip\u2019 saved [261483817/261483817]\n\n",
                    "name": "stdout"
                }
            ]
        },
        {
            "metadata": {
                "id": "PTaZ6C8c5u1J",
                "colab_type": "code",
                "colab": {}
            },
            "cell_type": "code",
            "source": "!unzip -q concrete_data_week4.zip",
            "execution_count": 2,
            "outputs": []
        },
        {
            "metadata": {
                "id": "5z4HhCuv5u1R",
                "colab_type": "text"
            },
            "cell_type": "markdown",
            "source": "After you unzip the data, you fill find the data has already been divided into a train, validation, and test sets."
        },
        {
            "metadata": {
                "id": "sONs9P3m5u1T",
                "colab_type": "text"
            },
            "cell_type": "markdown",
            "source": "  "
        },
        {
            "metadata": {
                "button": false,
                "new_sheet": false,
                "run_control": {
                    "read_only": false
                },
                "id": "0OkRO4Oo5u1U",
                "colab_type": "text"
            },
            "cell_type": "markdown",
            "source": "<a id=\"item42\"></a>"
        },
        {
            "metadata": {
                "id": "2ysGE7yF5u1W",
                "colab_type": "text"
            },
            "cell_type": "markdown",
            "source": "## Part 1"
        },
        {
            "metadata": {
                "id": "25drFMU25u1X",
                "colab_type": "text"
            },
            "cell_type": "markdown",
            "source": "In this part, you will design a classifier using the VGG16 pre-trained model. Just like the ResNet50 model, you can import the model <code>VGG16</code> from <code>keras.applications</code>."
        },
        {
            "metadata": {
                "id": "FK_x-LHd5u1Z",
                "colab_type": "text"
            },
            "cell_type": "markdown",
            "source": "You will essentially build your classifier as follows:\n1. Import libraries, modules, and packages you will need. Make sure to import the *preprocess_input* function from <code>keras.applications.vgg16</code>.\n2. Use a batch size of 100 images for both training and validation.\n3. Construct an ImageDataGenerator for the training set and another one for the validation set. VGG16 was originally trained on 224 \u00d7 224 images, so make sure to address that when defining the ImageDataGenerator instances.\n4. Create a sequential model using Keras. Add VGG16 model to it and dense layer.\n5. Compile the mode using the adam optimizer and the categorical_crossentropy loss function.\n6. Fit the model on the augmented data using the ImageDataGenerators."
        },
        {
            "metadata": {
                "id": "Zdtb8utR5u1b",
                "colab_type": "text"
            },
            "cell_type": "markdown",
            "source": "Use the following cells to create your classifier."
        },
        {
            "metadata": {
                "id": "YJRFBM_h5u1c",
                "colab_type": "code",
                "colab": {}
            },
            "cell_type": "code",
            "source": "from keras.applications import VGG16\nfrom keras.applications.vgg16 import preprocess_input",
            "execution_count": 3,
            "outputs": [
                {
                    "output_type": "stream",
                    "text": "Using TensorFlow backend.\n",
                    "name": "stderr"
                }
            ]
        },
        {
            "metadata": {
                "id": "AWlrhsd-5u1j",
                "colab_type": "code",
                "colab": {}
            },
            "cell_type": "code",
            "source": "batch_size_training = 100\nbatch_size_validation = 100",
            "execution_count": 4,
            "outputs": []
        },
        {
            "metadata": {
                "scrolled": true,
                "id": "e3MjAfCT5u1r",
                "colab_type": "code",
                "colab": {}
            },
            "cell_type": "code",
            "source": "from keras.preprocessing.image import ImageDataGenerator\ndata_generator = ImageDataGenerator(\n    preprocessing_function=preprocess_input,)",
            "execution_count": 5,
            "outputs": []
        },
        {
            "metadata": {
                "id": "DulN7oTm5u1y",
                "colab_type": "code",
                "colab": {
                    "base_uri": "https://localhost:8080/",
                    "height": 34
                },
                "outputId": "40f5410d-512e-4361-d697-3db664e2aedb",
                "executionInfo": {
                    "status": "ok",
                    "timestamp": 1586017140152,
                    "user_tz": -120,
                    "elapsed": 2639,
                    "user": {
                        "displayName": "Gh Rf",
                        "photoUrl": "",
                        "userId": "05533162023469766638"
                    }
                }
            },
            "cell_type": "code",
            "source": "image_resize=224\ntrain_generator = data_generator.flow_from_directory(\n    'concrete_data_week4/train',\n    target_size=(image_resize, image_resize),\n    batch_size=batch_size_training,\n    class_mode='categorical')",
            "execution_count": 6,
            "outputs": [
                {
                    "output_type": "stream",
                    "text": "Found 30001 images belonging to 2 classes.\n",
                    "name": "stdout"
                }
            ]
        },
        {
            "metadata": {
                "id": "iNjJSWKH5u13",
                "colab_type": "code",
                "colab": {
                    "base_uri": "https://localhost:8080/",
                    "height": 34
                },
                "outputId": "5bf5d15d-3961-419d-fa5c-6b62872459a0",
                "executionInfo": {
                    "status": "ok",
                    "timestamp": 1586017144834,
                    "user_tz": -120,
                    "elapsed": 1610,
                    "user": {
                        "displayName": "Gh Rf",
                        "photoUrl": "",
                        "userId": "05533162023469766638"
                    }
                }
            },
            "cell_type": "code",
            "source": "validation_generator = data_generator.flow_from_directory(\n    'concrete_data_week4/valid',\n    target_size=(image_resize, image_resize),\n    batch_size=batch_size_validation,\n    class_mode='categorical')",
            "execution_count": 7,
            "outputs": [
                {
                    "output_type": "stream",
                    "text": "Found 9501 images belonging to 2 classes.\n",
                    "name": "stdout"
                }
            ]
        },
        {
            "metadata": {
                "id": "S4WFmAV29zNQ",
                "colab_type": "code",
                "colab": {}
            },
            "cell_type": "code",
            "source": "import keras\nfrom keras.models import Sequential\nfrom keras.layers import Dense",
            "execution_count": 8,
            "outputs": []
        },
        {
            "metadata": {
                "id": "awOC-g0W5u1-",
                "colab_type": "code",
                "colab": {
                    "base_uri": "https://localhost:8080/",
                    "height": 71
                },
                "outputId": "04367153-28a2-4f9a-94bf-6f788627c1f1",
                "executionInfo": {
                    "status": "ok",
                    "timestamp": 1586016959272,
                    "user_tz": -120,
                    "elapsed": 1083,
                    "user": {
                        "displayName": "Gh Rf",
                        "photoUrl": "",
                        "userId": "05533162023469766638"
                    }
                }
            },
            "cell_type": "code",
            "source": "model = Sequential()",
            "execution_count": 9,
            "outputs": []
        },
        {
            "metadata": {
                "id": "21SGz7Vv5u2N",
                "colab_type": "code",
                "colab": {
                    "base_uri": "https://localhost:8080/",
                    "height": 241
                },
                "outputId": "f7dd852a-4d8e-4929-9a2c-1f1b8ddaeaae",
                "executionInfo": {
                    "status": "ok",
                    "timestamp": 1586017184775,
                    "user_tz": -120,
                    "elapsed": 3928,
                    "user": {
                        "displayName": "Gh Rf",
                        "photoUrl": "",
                        "userId": "05533162023469766638"
                    }
                }
            },
            "cell_type": "code",
            "source": "model.add(VGG16(\n    include_top=False,\n    pooling='avg',\n    weights='imagenet',\n    ))",
            "execution_count": 10,
            "outputs": [
                {
                    "output_type": "stream",
                    "text": "WARNING:tensorflow:From /opt/conda/envs/Python36/lib/python3.6/site-packages/tensorflow/python/framework/op_def_library.py:263: colocate_with (from tensorflow.python.framework.ops) is deprecated and will be removed in a future version.\nInstructions for updating:\nColocations handled automatically by placer.\nDownloading data from https://github.com/fchollet/deep-learning-models/releases/download/v0.1/vgg16_weights_tf_dim_ordering_tf_kernels_notop.h5\n58892288/58889256 [==============================] - 1s 0us/step\n",
                    "name": "stdout"
                }
            ]
        },
        {
            "metadata": {
                "id": "1fW7nYBi5u2W",
                "colab_type": "code",
                "colab": {}
            },
            "cell_type": "code",
            "source": "model.add(Dense(2, activation='softmax'))",
            "execution_count": 11,
            "outputs": []
        },
        {
            "metadata": {
                "id": "ijs4H3VJ5u2f",
                "colab_type": "code",
                "colab": {
                    "base_uri": "https://localhost:8080/",
                    "height": 71
                },
                "outputId": "be96ae0c-fa50-4514-abab-e7ea42c49f7a",
                "executionInfo": {
                    "status": "ok",
                    "timestamp": 1586017303206,
                    "user_tz": -120,
                    "elapsed": 696,
                    "user": {
                        "displayName": "Gh Rf",
                        "photoUrl": "",
                        "userId": "05533162023469766638"
                    }
                }
            },
            "cell_type": "code",
            "source": "model.compile(optimizer='adam', loss='categorical_crossentropy', metrics=['accuracy'])",
            "execution_count": 12,
            "outputs": []
        },
        {
            "metadata": {
                "id": "BTP2eGFS5u2k",
                "colab_type": "code",
                "colab": {}
            },
            "cell_type": "code",
            "source": "steps_per_epoch_training = len(train_generator)\nsteps_per_epoch_validation = len(validation_generator)\nnum_epochs = 2",
            "execution_count": 13,
            "outputs": []
        },
        {
            "metadata": {
                "id": "Vr5NCt7U5u2p",
                "colab_type": "code",
                "colab": {
                    "base_uri": "https://localhost:8080/",
                    "height": 462
                },
                "outputId": "018488d6-f14b-4668-ca21-5dce20670731",
                "executionInfo": {
                    "status": "error",
                    "timestamp": 1586019958821,
                    "user_tz": -120,
                    "elapsed": 2532694,
                    "user": {
                        "displayName": "Gh Rf",
                        "photoUrl": "",
                        "userId": "05533162023469766638"
                    }
                }
            },
            "cell_type": "code",
            "source": "fit_history = model.fit_generator(\n    train_generator,\n    steps_per_epoch=steps_per_epoch_training,\n    epochs=num_epochs,\n    validation_data=validation_generator,\n    validation_steps=steps_per_epoch_validation,\n    verbose=2,\n)",
            "execution_count": null,
            "outputs": [
                {
                    "output_type": "stream",
                    "text": "WARNING:tensorflow:From /opt/conda/envs/Python36/lib/python3.6/site-packages/tensorflow/python/ops/math_ops.py:3066: to_int32 (from tensorflow.python.ops.math_ops) is deprecated and will be removed in a future version.\nInstructions for updating:\nUse tf.cast instead.\nEpoch 1/2\n",
                    "name": "stdout"
                }
            ]
        },
        {
            "metadata": {
                "id": "oubbYJ8SGMxX",
                "colab_type": "code",
                "colab": {}
            },
            "cell_type": "code",
            "source": "model.save('classifier_vgg16_model.h5')",
            "execution_count": 0,
            "outputs": []
        },
        {
            "metadata": {
                "id": "X_4uDa-55u2v",
                "colab_type": "text"
            },
            "cell_type": "markdown",
            "source": "   "
        },
        {
            "metadata": {
                "id": "WjxFGxVp5u2w",
                "colab_type": "text"
            },
            "cell_type": "markdown",
            "source": "<a id=\"item43\"></a>"
        },
        {
            "metadata": {
                "id": "Q3uSSblf5u2x",
                "colab_type": "text"
            },
            "cell_type": "markdown",
            "source": "## Part 2"
        },
        {
            "metadata": {
                "id": "NiASeyBx5u2y",
                "colab_type": "text"
            },
            "cell_type": "markdown",
            "source": "In this part, you will evaluate your deep learning models on a test data. For this part, you will need to do the following:\n\n1. Load your saved model that was built using the ResNet50 model. \n2. Construct an ImageDataGenerator for the test set. For this ImageDataGenerator instance, you only need to pass the directory of the test images, target size, and the **shuffle** parameter and set it to False.\n3. Use the **evaluate_generator** method to evaluate your models on the test data, by passing the above ImageDataGenerator as an argument. You can learn more about **evaluate_generator** [here](https://keras.io/models/sequential/).\n4. Print the performance of the classifier using the VGG16 pre-trained model.\n5. Print the performance of the classifier using the ResNet pre-trained model.\n"
        },
        {
            "metadata": {
                "id": "oPyD2IRV5u2z",
                "colab_type": "text"
            },
            "cell_type": "markdown",
            "source": "Use the following cells to evaluate your models."
        },
        {
            "metadata": {
                "id": "Fvdk6_md5u20",
                "colab_type": "code",
                "colab": {}
            },
            "cell_type": "code",
            "source": "from keras.models import load_model\nloaded_model_Resnet = load_model('classifier_resnet_model.h5')\n# load weights into new model\n# loaded_model.load_weights(\"classifier_resnet_model.h5\")\nprint(\"Loaded model from disk\")",
            "execution_count": 0,
            "outputs": []
        },
        {
            "metadata": {
                "id": "XF1QsALT5u28",
                "colab_type": "code",
                "colab": {}
            },
            "cell_type": "code",
            "source": "test_generator = data_generator.flow_from_directory(\n    'concrete_data_week4/test',\n    target_size=(image_resize, image_resize),\n    batch_size=batch_size_training,\n    class_mode='categorical')",
            "execution_count": 0,
            "outputs": []
        },
        {
            "metadata": {
                "id": "P4Sy-IAx5u3E",
                "colab_type": "code",
                "colab": {}
            },
            "cell_type": "code",
            "source": "scoreVgg16 = model.evaluate_generator(test_generator)\nprint(\"Accuracy = \",scoreVgg16[1])",
            "execution_count": 0,
            "outputs": []
        },
        {
            "metadata": {
                "id": "N--fWKmt5u3I",
                "colab_type": "code",
                "colab": {}
            },
            "cell_type": "code",
            "source": "scoreResnet = loaded_model_Resnet.evaluate_generator(test_generator)\nprint(\"Accuracy = \",scoreResnet[1])",
            "execution_count": 0,
            "outputs": []
        },
        {
            "metadata": {
                "id": "z-ewhF9d5u3N",
                "colab_type": "text"
            },
            "cell_type": "markdown",
            "source": "   "
        },
        {
            "metadata": {
                "id": "MkCBl-Cp5u3P",
                "colab_type": "text"
            },
            "cell_type": "markdown",
            "source": "<a id=\"item44\"></a>"
        },
        {
            "metadata": {
                "id": "iq4CM9895u3Q",
                "colab_type": "text"
            },
            "cell_type": "markdown",
            "source": "## Part 3"
        },
        {
            "metadata": {
                "id": "SbcMQ45D5u3R",
                "colab_type": "text"
            },
            "cell_type": "markdown",
            "source": "In this model, you will predict whether the images in the test data are images of cracked concrete or not. You will do the following:\n\n1. Use the **predict_generator** method to predict the class of the images in the test data, by passing the test data ImageDataGenerator instance defined in the previous part as an argument. You can learn more about the **predict_generator** method [here](https://keras.io/models/sequential/).\n2. Report the class predictions of the first five images in the test set. You should print something list this:\n\n<center>\n    <ul style=\"list-style-type:none\">\n        <li>Positive</li>  \n        <li>Negative</li> \n        <li>Positive</li>\n        <li>Positive</li>\n        <li>Negative</li>\n    </ul>\n</center>"
        },
        {
            "metadata": {
                "id": "voTKc9zI5u3T",
                "colab_type": "text"
            },
            "cell_type": "markdown",
            "source": "Use the following cells to make your predictions."
        },
        {
            "metadata": {
                "id": "dd_e8rP55u3U",
                "colab_type": "code",
                "colab": {}
            },
            "cell_type": "code",
            "source": "predict_generator = data_generator.flow_from_directory(\n    'concrete_data_week4/test',\n    target_size=(image_resize, image_resize),\n    batch_size=batch_size_training,\n    class_mode='categorical')",
            "execution_count": 0,
            "outputs": []
        },
        {
            "metadata": {
                "id": "tR9-z9BA5u3h",
                "colab_type": "code",
                "colab": {}
            },
            "cell_type": "code",
            "source": "filenames = predict_generator.filenames\nnb_samples = len(filenames)\n\npredict = model.predict_generator(predict_generator,steps = nb_samples)",
            "execution_count": 0,
            "outputs": []
        },
        {
            "metadata": {
                "id": "CfdUVspS5u3n",
                "colab_type": "code",
                "colab": {}
            },
            "cell_type": "code",
            "source": "# Predict on the first 5 test images.\npredictions = model.predict(test_images[:5])",
            "execution_count": 0,
            "outputs": []
        },
        {
            "metadata": {
                "id": "ibrwM5bS5u3y",
                "colab_type": "code",
                "colab": {}
            },
            "cell_type": "code",
            "source": "# Print our model's predictions.\nprint(np.argmax(predictions, axis=1)) # \n\n",
            "execution_count": 0,
            "outputs": []
        },
        {
            "metadata": {
                "id": "8GXOIxw45u33",
                "colab_type": "text"
            },
            "cell_type": "markdown",
            "source": "  "
        },
        {
            "metadata": {
                "button": false,
                "new_sheet": false,
                "run_control": {
                    "read_only": false
                },
                "id": "3yK1CllA5u34",
                "colab_type": "text"
            },
            "cell_type": "markdown",
            "source": "### Thank you for completing this lab!\n\nThis notebook was created by Alex Aklson."
        },
        {
            "metadata": {
                "button": false,
                "new_sheet": false,
                "run_control": {
                    "read_only": false
                },
                "id": "vGywioEj5u35",
                "colab_type": "text"
            },
            "cell_type": "markdown",
            "source": "This notebook is part of a course on **Coursera** called *AI Capstone Project with Deep Learning*. If you accessed this notebook outside the course, you can take this course online by clicking [here](https://cocl.us/DL0321EN_Coursera_Week4_LAB1)."
        },
        {
            "metadata": {
                "button": false,
                "new_sheet": false,
                "run_control": {
                    "read_only": false
                },
                "id": "9zwfSS6i5u36",
                "colab_type": "text"
            },
            "cell_type": "markdown",
            "source": "<hr>\n\nCopyright &copy; 2020 [IBM Developer Skills Network](https://cognitiveclass.ai/?utm_source=bducopyrightlink&utm_medium=dswb&utm_campaign=bdu). This notebook and its source code are released under the terms of the [MIT License](https://bigdatauniversity.com/mit-license/)."
        }
    ],
    "metadata": {
        "kernelspec": {
            "name": "python3",
            "display_name": "Python 3.6",
            "language": "python"
        },
        "language_info": {
            "name": "python",
            "version": "3.6.9",
            "mimetype": "text/x-python",
            "codemirror_mode": {
                "name": "ipython",
                "version": 3
            },
            "pygments_lexer": "ipython3",
            "nbconvert_exporter": "python",
            "file_extension": ".py"
        },
        "colab": {
            "name": "DL0321EN-4-1-Comparing-Models-py-v1.0.ipynb",
            "provenance": [],
            "collapsed_sections": [],
            "toc_visible": true
        },
        "accelerator": "GPU"
    },
    "nbformat": 4,
    "nbformat_minor": 1
}